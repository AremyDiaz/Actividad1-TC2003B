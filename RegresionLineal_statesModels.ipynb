{
 "cells": [
  {
   "cell_type": "code",
   "execution_count": null,
   "metadata": {},
   "outputs": [],
   "source": [
    "%pip install statsmodels"
   ]
  },
  {
   "cell_type": "code",
   "execution_count": null,
   "metadata": {},
   "outputs": [],
   "source": [
    "#Importamos Librerias\n",
    "import pandas as pd\n",
    "import statsmodels.formula.api as smf\n",
    "import matplotlib.pyplot as plt\n",
    "import numpy as np"
   ]
  },
  {
   "cell_type": "code",
   "execution_count": null,
   "metadata": {},
   "outputs": [],
   "source": [
    "#Leemos data frame\n",
    "\n",
    "df=pd.read_csv('car_crashes.csv')\n",
    "print(df.head(5))"
   ]
  },
  {
   "cell_type": "code",
   "execution_count": null,
   "metadata": {},
   "outputs": [],
   "source": [
    "#Definimos la función del modelo de predicción\n",
    "\n",
    "#                          y~x\n",
    "model=smf.ols(formula=\"total~alcohol\", data=df).fit() #simple\n",
    "#model=smf.ols(formula=\"total~alcohol+speeding\", data=df).fit() #simple\n",
    "model.params #coeficientes del modelo"
   ]
  },
  {
   "cell_type": "code",
   "execution_count": null,
   "metadata": {},
   "outputs": [],
   "source": [
    "#Agregamos la columna de predicción al dataframe\n",
    "Form= 5.3857776 + 2.032506*df[\"alcohol\"]\n",
    "df.insert(loc=0, column='Predicciones', value=Form)\n",
    "df"
   ]
  },
  {
   "cell_type": "code",
   "execution_count": 11,
   "metadata": {},
   "outputs": [
    {
     "data": {
      "image/png": "[encoded data removed]",
      "text/plain": [
       "<Figure size 432x288 with 1 Axes>"
      ]
     },
     "metadata": {
      "needs_background": "light"
     },
     "output_type": "display_data"
    }
   ],
   "source": [
    "#Graficamos los valores predecidos y los valores reales\n",
    "\n",
    "df.plot(kind=\"scatter\", x=\"alcohol\", y=\"total\")\n",
    "plt.plot(pd.DataFrame(df[\"alcohol\"]), pd.DataFrame(df[\"Predicciones\"]), c='orange')\n",
    "plt.show()"
   ]
  },
  {
   "cell_type": "code",
   "execution_count": 12,
   "metadata": {},
   "outputs": [
    {
     "data": {
      "text/html": [
       "<table class=\"simpletable\">\n",
       "<caption>OLS Regression Results</caption>\n",
       "<tr>\n",
       "  <th>Dep. Variable:</th>          <td>total</td>      <th>  R-squared:         </th> <td>   0.727</td>\n",
       "</tr>\n",
       "<tr>\n",
       "  <th>Model:</th>                   <td>OLS</td>       <th>  Adj. R-squared:    </th> <td>   0.721</td>\n",
       "</tr>\n",
       "<tr>\n",
       "  <th>Method:</th>             <td>Least Squares</td>  <th>  F-statistic:       </th> <td>   130.5</td>\n",
       "</tr>\n",
       "<tr>\n",
       "  <th>Date:</th>             <td>Mon, 19 Sep 2022</td> <th>  Prob (F-statistic):</th> <td>2.04e-15</td>\n",
       "</tr>\n",
       "<tr>\n",
       "  <th>Time:</th>                 <td>16:35:29</td>     <th>  Log-Likelihood:    </th> <td> -110.99</td>\n",
       "</tr>\n",
       "<tr>\n",
       "  <th>No. Observations:</th>      <td>    51</td>      <th>  AIC:               </th> <td>   226.0</td>\n",
       "</tr>\n",
       "<tr>\n",
       "  <th>Df Residuals:</th>          <td>    49</td>      <th>  BIC:               </th> <td>   229.8</td>\n",
       "</tr>\n",
       "<tr>\n",
       "  <th>Df Model:</th>              <td>     1</td>      <th>                     </th>     <td> </td>   \n",
       "</tr>\n",
       "<tr>\n",
       "  <th>Covariance Type:</th>      <td>nonrobust</td>    <th>                     </th>     <td> </td>   \n",
       "</tr>\n",
       "</table>\n",
       "<table class=\"simpletable\">\n",
       "<tr>\n",
       "      <td></td>         <th>coef</th>     <th>std err</th>      <th>t</th>      <th>P>|t|</th>  <th>[0.025</th>    <th>0.975]</th>  \n",
       "</tr>\n",
       "<tr>\n",
       "  <th>Intercept</th> <td>    5.8578</td> <td>    0.921</td> <td>    6.357</td> <td> 0.000</td> <td>    4.006</td> <td>    7.709</td>\n",
       "</tr>\n",
       "<tr>\n",
       "  <th>alcohol</th>   <td>    2.0325</td> <td>    0.178</td> <td>   11.422</td> <td> 0.000</td> <td>    1.675</td> <td>    2.390</td>\n",
       "</tr>\n",
       "</table>\n",
       "<table class=\"simpletable\">\n",
       "<tr>\n",
       "  <th>Omnibus:</th>       <td> 1.922</td> <th>  Durbin-Watson:     </th> <td>   1.776</td>\n",
       "</tr>\n",
       "<tr>\n",
       "  <th>Prob(Omnibus):</th> <td> 0.382</td> <th>  Jarque-Bera (JB):  </th> <td>   1.705</td>\n",
       "</tr>\n",
       "<tr>\n",
       "  <th>Skew:</th>          <td> 0.439</td> <th>  Prob(JB):          </th> <td>   0.426</td>\n",
       "</tr>\n",
       "<tr>\n",
       "  <th>Kurtosis:</th>      <td> 2.824</td> <th>  Cond. No.          </th> <td>    16.2</td>\n",
       "</tr>\n",
       "</table><br/><br/>Notes:<br/>[1] Standard Errors assume that the covariance matrix of the errors is correctly specified."
      ],
      "text/plain": [
       "<class 'statsmodels.iolib.summary.Summary'>\n",
       "\"\"\"\n",
       "                            OLS Regression Results                            \n",
       "==============================================================================\n",
       "Dep. Variable:                  total   R-squared:                       0.727\n",
       "Model:                            OLS   Adj. R-squared:                  0.721\n",
       "Method:                 Least Squares   F-statistic:                     130.5\n",
       "Date:                Mon, 19 Sep 2022   Prob (F-statistic):           2.04e-15\n",
       "Time:                        16:35:29   Log-Likelihood:                -110.99\n",
       "No. Observations:                  51   AIC:                             226.0\n",
       "Df Residuals:                      49   BIC:                             229.8\n",
       "Df Model:                           1                                         \n",
       "Covariance Type:            nonrobust                                         \n",
       "==============================================================================\n",
       "                 coef    std err          t      P>|t|      [0.025      0.975]\n",
       "------------------------------------------------------------------------------\n",
       "Intercept      5.8578      0.921      6.357      0.000       4.006       7.709\n",
       "alcohol        2.0325      0.178     11.422      0.000       1.675       2.390\n",
       "==============================================================================\n",
       "Omnibus:                        1.922   Durbin-Watson:                   1.776\n",
       "Prob(Omnibus):                  0.382   Jarque-Bera (JB):                1.705\n",
       "Skew:                           0.439   Prob(JB):                        0.426\n",
       "Kurtosis:                       2.824   Cond. No.                         16.2\n",
       "==============================================================================\n",
       "\n",
       "Notes:\n",
       "[1] Standard Errors assume that the covariance matrix of the errors is correctly specified.\n",
       "\"\"\""
      ]
     },
     "execution_count": 12,
     "metadata": {},
     "output_type": "execute_result"
    }
   ],
   "source": [
    "#Calculamos el coeficiente de Determinación R cuadrado\n",
    "model.summary()"
   ]
  },
  {
   "cell_type": "code",
   "execution_count": 13,
   "metadata": {},
   "outputs": [
    {
     "data": {
      "text/plain": [
       "0.8526429498916882"
      ]
     },
     "execution_count": 13,
     "metadata": {},
     "output_type": "execute_result"
    }
   ],
   "source": [
    "#Calculamos el coeficiente de correlación R \n",
    "coef_Correl= np.sqrt(0.727)\n",
    "coef_Correl"
   ]
  }
 ],
 "metadata": {
  "kernelspec": {
   "display_name": "Python 3.10.7 64-bit (microsoft store)",
   "language": "python",
   "name": "python3"
  },
  "language_info": {
   "codemirror_mode": {
    "name": "ipython",
    "version": 3
   },
   "file_extension": ".py",
   "mimetype": "text/x-python",
   "name": "python",
   "nbconvert_exporter": "python",
   "pygments_lexer": "ipython3",
   "version": "3.10.7"
  },
  "orig_nbformat": 4,
  "vscode": {
   "interpreter": {
    "hash": "8bdb6cfb01423875b53bbdacac8cafabfbfae2881293bc8f69e02add7339e574"
   }
  }
 },
 "nbformat": 4,
 "nbformat_minor": 2
}
