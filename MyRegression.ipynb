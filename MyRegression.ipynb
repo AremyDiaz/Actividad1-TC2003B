{
 "cells": [
  {
   "cell_type": "code",
   "execution_count": null,
   "metadata": {},
   "outputs": [],
   "source": [
    "#Importamos Librerias\n",
    "import pandas as pd\n",
    "import statsmodels.formula.api as smf\n",
    "import matplotlib.pyplot as plt\n",
    "import numpy as np\n",
    "import seaborn as sns"
   ]
  },
  {
   "cell_type": "code",
   "execution_count": null,
   "metadata": {},
   "outputs": [],
   "source": [
    "#Leemos data frame\n",
    "\n",
    "df=pd.read_csv('diamonds.csv')\n",
    "print(df.head(5))"
   ]
  },
  {
   "cell_type": "markdown",
   "metadata": {},
   "source": [
    "PROCESAMIENTO DE NULOS"
   ]
  },
  {
   "cell_type": "code",
   "execution_count": null,
   "metadata": {},
   "outputs": [],
   "source": [
    "#Identificar valores nulos\n",
    "valores_nulos=df.isnull().sum()\n",
    "valores_nulos"
   ]
  },
  {
   "cell_type": "code",
   "execution_count": null,
   "metadata": {},
   "outputs": [],
   "source": [
    "#Realizamos una copia del dataframe\n",
    "df2=df.copy()"
   ]
  },
  {
   "cell_type": "code",
   "execution_count": null,
   "metadata": {},
   "outputs": [],
   "source": [
    "#Sustituir valores nulos con promedio o media\n",
    "df2[\"carat\"]=df2[\"carat\"].fillna(round(df[\"carat\"].mean(),2))\n",
    "df2[\"depth\"]=df2[\"depth\"].fillna(round(df[\"depth\"].mean(),1))\n",
    "df2[\"table\"]=df2[\"table\"].fillna(round(df[\"table\"].mean(),1))\n",
    "df2[\"price\"] =df2[\"price\"].fillna(method=\"ffill\") #mejor con el datos adyacente pues los datos van de menor a mayor\n",
    "df2[\"x\"]=df2[\"x\"].fillna(round(df[\"x\"].mean(),0))\n",
    "df2[\"y\"]=df2[\"y\"].fillna(round(df[\"y\"].mean(),0))\n",
    "df2[\"z\"]=df2[\"z\"].fillna(round(df[\"z\"].mean(),0))"
   ]
  },
  {
   "cell_type": "code",
   "execution_count": null,
   "metadata": {},
   "outputs": [],
   "source": [
    "#Comprobación\n",
    "#Identificar valores nulos\n",
    "nulos=df2.isnull().sum()\n",
    "nulos"
   ]
  },
  {
   "cell_type": "markdown",
   "metadata": {},
   "source": [
    "PROCESAMIENTO DE OUTLIERS"
   ]
  },
  {
   "cell_type": "code",
   "execution_count": null,
   "metadata": {},
   "outputs": [],
   "source": [
    "#Diagrama de caja o bigote de cada columna del dataframe\n",
    "fig = plt.figure(figsize =(15, 8))\n",
    "df2.plot(kind='box', vert=False)\n",
    "plt.title(\"Valores Atípicos del Dataframe\")\n",
    "plt.show() #dibujamos el diagrama en el que vemos que todas las variables tienen datos atípicos"
   ]
  },
  {
   "cell_type": "code",
   "execution_count": null,
   "metadata": {},
   "outputs": [],
   "source": [
    "#Método: desviación estandar. Encuentro los límites.\n",
    "#Primera variable: carat\n",
    "x1=df2[\"carat\"]\n",
    "LS1= x1.mean() + 3*x1.std()\n",
    "LI1= x1.mean() - 3*x1.std()\n",
    "print(\"Limite superior permitido\", LS1)\n",
    "print(\"Limite inferior permitido\", LI1)"
   ]
  },
  {
   "cell_type": "code",
   "execution_count": null,
   "metadata": {},
   "outputs": [],
   "source": [
    "#Primera sustitución: carat.\n",
    "df3=df2[(x1<=LS1)&(x1>=LI1)] #Obtenemos datos sin outliers de price del DataFrame\n",
    "df3[\"carat\"]=df3[\"carat\"].fillna(round(df2[\"carat\"].mean(),2))"
   ]
  },
  {
   "cell_type": "code",
   "execution_count": null,
   "metadata": {},
   "outputs": [],
   "source": [
    "#Método aplicando desviación estandar. Encuentro los límites.\n",
    "#Segunda variable: depth\n",
    "x2=df2[\"depth\"]\n",
    "LS2= x2.mean() + 3*x2.std()\n",
    "LI2= x2.mean() - 3*x2.std()\n",
    "print(\"Limite superior permitido\", LS2)\n",
    "print(\"Limite inferior permitido\", LI2)"
   ]
  },
  {
   "cell_type": "code",
   "execution_count": null,
   "metadata": {},
   "outputs": [],
   "source": [
    "#Segunda sustitución: depth.\n",
    "df3=df2[(x2<=LS2)&(x2>=LI2)] #Obtenemos datos sin outliers de price del DataFrame\n",
    "df3[\"depth\"]=df3[\"depth\"].fillna(round(df2[\"depth\"].mean(),1))"
   ]
  },
  {
   "cell_type": "code",
   "execution_count": null,
   "metadata": {},
   "outputs": [],
   "source": [
    "#Método aplicando desviación estandar. Encuentro los límites.\n",
    "#Tercera variable: table\n",
    "x3=df2[\"table\"]\n",
    "LS3= x3.mean() + 3*x3.std()\n",
    "LI3= x3.mean() - 3*x3.std()\n",
    "print(\"Limite superior permitido\", LS3)\n",
    "print(\"Limite inferior permitido\", LI3)"
   ]
  },
  {
   "cell_type": "code",
   "execution_count": null,
   "metadata": {},
   "outputs": [],
   "source": [
    "#Tercera sustitución: table\n",
    "df3=df2[(x3<=LS3)&(x3>=LI3)] #Obtenemos datos sin outliers de price del DataFrame\n",
    "df3[\"table\"]=df3[\"table\"].fillna(round(df2[\"table\"].mean(),0))"
   ]
  },
  {
   "cell_type": "code",
   "execution_count": null,
   "metadata": {},
   "outputs": [],
   "source": [
    "#Método aplicando desviación estandar. Encuentro los límites.\n",
    "#Cuarta variable: price\n",
    "x4=df2[\"price\"]\n",
    "LS4= x4.mean() + 3*x4.std()\n",
    "LI4= x4.mean() - 3*x4.std()\n",
    "print(\"Limite superior permitido\", LS4)\n",
    "print(\"Limite inferior permitido\", LI4)"
   ]
  },
  {
   "cell_type": "code",
   "execution_count": null,
   "metadata": {},
   "outputs": [],
   "source": [
    "#Cuarta sustitución: price\n",
    "df3=df2[(x4<=LS4)&(x4>=LI4)] #Obtenemos datos sin outliers de price del DataFrame\n",
    "df3[\"price\"]=df3[\"price\"].fillna(round(df2[\"price\"].mean(),0))"
   ]
  },
  {
   "cell_type": "code",
   "execution_count": null,
   "metadata": {},
   "outputs": [],
   "source": [
    "#Método aplicando desviación estandar. Encuentro los límites.\n",
    "#Quinta variable: x\n",
    "x5=df2[\"x\"]\n",
    "LS5= x5.mean() + 3*x5.std()\n",
    "LI5= x5.mean() - 3*x5.std()\n",
    "print(\"Limite superior permitido\", LS5)\n",
    "print(\"Limite inferior permitido\", LI5)"
   ]
  },
  {
   "cell_type": "code",
   "execution_count": null,
   "metadata": {},
   "outputs": [],
   "source": [
    "#Quinta sustitución: x\n",
    "df3=df2[(x5<=LS5)&(x5>=LI5)] #Obtenemos datos sin outliers de price del DataFrame\n",
    "df3[\"x\"]=df3[\"x\"].fillna(round(df2[\"x\"].mean(),2))"
   ]
  },
  {
   "cell_type": "code",
   "execution_count": null,
   "metadata": {},
   "outputs": [],
   "source": [
    "#Método aplicando desviación estandar. Encuentro los límites.\n",
    "#Sexta variable: y\n",
    "x6=df2[\"y\"]\n",
    "LS6= x6.mean() + 3*x6.std()\n",
    "LI6= x6.mean() - 3*x6.std()\n",
    "print(\"Limite superior permitido\", LS6)\n",
    "print(\"Limite inferior permitido\", LI6)"
   ]
  },
  {
   "cell_type": "code",
   "execution_count": null,
   "metadata": {},
   "outputs": [],
   "source": [
    "#Sexta sustitución: y\n",
    "df3=df2[(x6<=LS6)&(x6>=LI6)] #Obtenemos datos sin outliers de price del DataFrame\n",
    "df3[\"y\"]=df3[\"y\"].fillna(round(df2[\"y\"].mean(),2))"
   ]
  },
  {
   "cell_type": "code",
   "execution_count": null,
   "metadata": {},
   "outputs": [],
   "source": [
    "#Método aplicando desviación estandar. Encuentro los límites.\n",
    "#Séptima variable: z\n",
    "x7=df2[\"z\"]\n",
    "LS7= x7.mean() + 3*x7.std()\n",
    "LI7= x7.mean() - 3*x7.std()\n",
    "print(\"Limite superior permitido\", LS7)\n",
    "print(\"Limite inferior permitido\", LI7)"
   ]
  },
  {
   "cell_type": "code",
   "execution_count": null,
   "metadata": {},
   "outputs": [],
   "source": [
    "#Séptima sustitución: z\n",
    "df3=df2[(x7<=LS7)&(x7>=LI7)] #Obtenemos datos sin outliers de price del DataFrame\n",
    "df3[\"z\"]=df3[\"z\"].fillna(round(df2[\"z\"].mean(),2))"
   ]
  },
  {
   "cell_type": "code",
   "execution_count": null,
   "metadata": {},
   "outputs": [],
   "source": [
    "#Comprobación de sustitución\n",
    "nulos_totales=df3.isnull().sum().sum()\n",
    "nulos_totales\n",
    "df3"
   ]
  },
  {
   "cell_type": "markdown",
   "metadata": {},
   "source": [
    "Correlación (R) y Determinación (R^2)"
   ]
  },
  {
   "cell_type": "code",
   "execution_count": null,
   "metadata": {},
   "outputs": [],
   "source": [
    "Dep=df3['price']"
   ]
  },
  {
   "cell_type": "code",
   "execution_count": null,
   "metadata": {},
   "outputs": [],
   "source": [
    "#Se define model como la función de regresión lineal\n",
    "from sklearn.linear_model import LinearRegression\n",
    "model1=LinearRegression()"
   ]
  },
  {
   "cell_type": "code",
   "execution_count": 208,
   "metadata": {},
   "outputs": [
    {
     "data": {
      "text/plain": [
       "0.852744794344592"
      ]
     },
     "execution_count": 208,
     "metadata": {},
     "output_type": "execute_result"
    }
   ],
   "source": [
    "#Determinación 1\n",
    "Indep1=df3[['carat']]\n",
    "model1.fit(X=Indep1, y=Dep)\n",
    "\n",
    "#Coeficiente de DETERMINACIÓN\n",
    "coef_Deter1 = model1.score(X=Indep1, y=Dep)\n",
    "coef_Deter1"
   ]
  },
  {
   "cell_type": "code",
   "execution_count": 209,
   "metadata": {},
   "outputs": [
    {
     "data": {
      "text/plain": [
       "0.923441819685784"
      ]
     },
     "execution_count": 209,
     "metadata": {},
     "output_type": "execute_result"
    }
   ],
   "source": [
    "#Correlación 1\n",
    "coef_Correl1=np.sqrt(coef_Deter1)\n",
    "coef_Correl1"
   ]
  },
  {
   "cell_type": "code",
   "execution_count": null,
   "metadata": {},
   "outputs": [],
   "source": [
    "from turtle import color\n",
    "\n",
    "sns.scatterplot(x='carat', y='price', color=\"blue\", data=df3)"
   ]
  },
  {
   "cell_type": "code",
   "execution_count": 205,
   "metadata": {},
   "outputs": [
    {
     "data": {
      "text/plain": [
       "0.00017153612454423595"
      ]
     },
     "execution_count": 205,
     "metadata": {},
     "output_type": "execute_result"
    }
   ],
   "source": [
    "#Determinación 2\n",
    "Indep2=df3[['depth']]\n",
    "model2=LinearRegression()\n",
    "model2.fit(X=Indep2, y=Dep)\n",
    "\n",
    "#Coeficiente de DETERMINACIÓN\n",
    "coef_Deter2 = model2.score(X=Indep2, y=Dep)\n",
    "coef_Deter2"
   ]
  },
  {
   "cell_type": "code",
   "execution_count": 206,
   "metadata": {},
   "outputs": [
    {
     "data": {
      "text/plain": [
       "0.013097180022594022"
      ]
     },
     "execution_count": 206,
     "metadata": {},
     "output_type": "execute_result"
    }
   ],
   "source": [
    "#Correlación 2\n",
    "coef_Correl2=np.sqrt(coef_Deter2)\n",
    "coef_Correl2"
   ]
  },
  {
   "cell_type": "code",
   "execution_count": null,
   "metadata": {},
   "outputs": [],
   "source": [
    "sns.scatterplot(x='depth', y='price', color=\"blue\", data=df3)"
   ]
  },
  {
   "cell_type": "code",
   "execution_count": null,
   "metadata": {},
   "outputs": [],
   "source": [
    "#Determinación 3\n",
    "Indep3=df3[['table']]\n",
    "model3=LinearRegression()\n",
    "model3.fit(X=Indep3, y=Dep)\n",
    "\n",
    "#Coeficiente de DETERMINACIÓN\n",
    "coef_Deter3 = model1.score(X=Indep3, y=Dep)\n",
    "coef_Deter3"
   ]
  },
  {
   "cell_type": "code",
   "execution_count": null,
   "metadata": {},
   "outputs": [],
   "source": [
    "#Correlación 3\n",
    "coef_Correl3=np.sqrt(coef_Deter3)\n",
    "coef_Correl3"
   ]
  },
  {
   "cell_type": "code",
   "execution_count": null,
   "metadata": {},
   "outputs": [],
   "source": [
    "sns.scatterplot(x='table', y='price', color=\"blue\", data=df3)"
   ]
  },
  {
   "cell_type": "code",
   "execution_count": null,
   "metadata": {},
   "outputs": [],
   "source": [
    "#Determinación 4\n",
    "Indep4=df3[['carat','depth']]\n",
    "model4=LinearRegression()\n",
    "model4.fit(X=Indep4, y=Dep)\n",
    "\n",
    "#Coeficiente de DETERMINACIÓN\n",
    "coef_Deter4 = model4.score(X=Indep4, y=Dep)\n",
    "coef_Deter4"
   ]
  },
  {
   "cell_type": "code",
   "execution_count": null,
   "metadata": {},
   "outputs": [],
   "source": [
    "#Correlación 4\n",
    "coef_Correl4=np.sqrt(coef_Deter4)\n",
    "coef_Correl4"
   ]
  },
  {
   "cell_type": "code",
   "execution_count": null,
   "metadata": {},
   "outputs": [],
   "source": [
    "sns.scatterplot(x='carat', y='price', color=\"blue\", data=df3)"
   ]
  },
  {
   "cell_type": "code",
   "execution_count": null,
   "metadata": {},
   "outputs": [],
   "source": [
    "#Determinación 5\n",
    "Indep5=df3[['carat','table']]\n",
    "model5=LinearRegression()\n",
    "model5.fit(X=Indep5, y=Dep)\n",
    "\n",
    "#Coeficiente de DETERMINACIÓN\n",
    "coef_Deter5 = model5.score(X=Indep5, y=Dep)\n",
    "coef_Deter5"
   ]
  },
  {
   "cell_type": "code",
   "execution_count": null,
   "metadata": {},
   "outputs": [],
   "source": [
    "#Correlación 5\n",
    "coef_Correl5=np.sqrt(coef_Deter5)\n",
    "coef_Correl5"
   ]
  },
  {
   "cell_type": "code",
   "execution_count": null,
   "metadata": {},
   "outputs": [],
   "source": [
    "#Determinación 6\n",
    "Indep6=df3[['depth','table']]\n",
    "model6=LinearRegression()\n",
    "model6.fit(X=Indep6, y=Dep)\n",
    "\n",
    "#Coeficiente de DETERMINACIÓN\n",
    "coef_Deter6 = model6.score(X=Indep6, y=Dep)\n",
    "coef_Deter6"
   ]
  },
  {
   "cell_type": "code",
   "execution_count": null,
   "metadata": {},
   "outputs": [],
   "source": [
    "#Correlación 6\n",
    "coef_Correl6=np.sqrt(coef_Deter6)\n",
    "coef_Correl6"
   ]
  },
  {
   "cell_type": "code",
   "execution_count": null,
   "metadata": {},
   "outputs": [],
   "source": [
    "#Determinación 7\n",
    "Indep7=df3[['x','y','z']]\n",
    "model7=LinearRegression()\n",
    "model7.fit(X=Indep7, y=Dep)\n",
    "\n",
    "#Coeficiente de DETERMINACIÓN\n",
    "coef_Deter7 = model7.score(X=Indep7, y=Dep)\n",
    "coef_Deter7"
   ]
  },
  {
   "cell_type": "code",
   "execution_count": null,
   "metadata": {},
   "outputs": [],
   "source": [
    "#Correlación 7\n",
    "coef_Correl7=np.sqrt(coef_Deter7)\n",
    "coef_Correl7"
   ]
  },
  {
   "cell_type": "code",
   "execution_count": null,
   "metadata": {},
   "outputs": [],
   "source": [
    "sns.scatterplot(x='x', y='price', color=\"blue\", data=df3)"
   ]
  },
  {
   "cell_type": "code",
   "execution_count": null,
   "metadata": {},
   "outputs": [],
   "source": [
    "sns.scatterplot(x='y', y='price', color=\"blue\", data=df3)"
   ]
  },
  {
   "cell_type": "code",
   "execution_count": null,
   "metadata": {},
   "outputs": [],
   "source": [
    "sns.scatterplot(x='z', y='price', color=\"blue\", data=df3)"
   ]
  },
  {
   "cell_type": "code",
   "execution_count": null,
   "metadata": {},
   "outputs": [],
   "source": [
    "#Determinación 8\n",
    "Indep8=df3[['x','y','z','carat','depth']]\n",
    "model8=LinearRegression()\n",
    "model8.fit(X=Indep8, y=Dep)\n",
    "\n",
    "#Coeficiente de DETERMINACIÓN\n",
    "coef_Deter8 = model8.score(X=Indep8, y=Dep)\n",
    "coef_Deter8"
   ]
  },
  {
   "cell_type": "code",
   "execution_count": null,
   "metadata": {},
   "outputs": [],
   "source": [
    "#Correlación 8\n",
    "coef_Correl8=np.sqrt(coef_Deter8)\n",
    "coef_Correl8"
   ]
  },
  {
   "cell_type": "code",
   "execution_count": null,
   "metadata": {},
   "outputs": [],
   "source": [
    "#Determinación 9\n",
    "Indep9=df3[['x','y','z','carat','depth','table']]\n",
    "model9=LinearRegression()\n",
    "model9.fit(X=Indep9, y=Dep)\n",
    "\n",
    "#Coeficiente de DETERMINACIÓN\n",
    "coef_Deter9 = model9.score(X=Indep9, y=Dep)\n",
    "coef_Deter9"
   ]
  },
  {
   "cell_type": "code",
   "execution_count": null,
   "metadata": {},
   "outputs": [],
   "source": [
    "#Correlación 9\n",
    "coef_Correl9=np.sqrt(coef_Deter9)\n",
    "coef_Correl9"
   ]
  },
  {
   "cell_type": "markdown",
   "metadata": {},
   "source": [
    "PREDICCIONES"
   ]
  },
  {
   "cell_type": "code",
   "execution_count": null,
   "metadata": {},
   "outputs": [],
   "source": [
    "df4_1 = df3[['price','carat','cut','color','clarity','depth','table','x','y','z']]"
   ]
  },
  {
   "cell_type": "code",
   "execution_count": null,
   "metadata": {},
   "outputs": [],
   "source": [
    "y_pred1= model1.predict(X=df3[['carat']])\n",
    "dif1 = y_pred1 - Dep"
   ]
  },
  {
   "cell_type": "code",
   "execution_count": null,
   "metadata": {},
   "outputs": [],
   "source": [
    "#Insertamos la columna de predicciones en el DataFrame\n",
    "df4_1.insert(0, 'Predicciones', y_pred1) #En la columna 0, nombre de la columnas y la variable\n",
    "df4_1.insert(2, 'Diferencias', dif1)\n",
    "df4_1"
   ]
  },
  {
   "cell_type": "code",
   "execution_count": 202,
   "metadata": {},
   "outputs": [
    {
     "data": {
      "text/plain": [
       "<AxesSubplot:xlabel='carat', ylabel='price'>"
      ]
     },
     "execution_count": 202,
     "metadata": {},
     "output_type": "execute_result"
    },
    {
     "data": {
      "image/png": "[encoded data removed]",
      "text/plain": [
       "<Figure size 432x288 with 1 Axes>"
      ]
     },
     "metadata": {
      "needs_background": "light"
     },
     "output_type": "display_data"
    }
   ],
   "source": [
    "#Visualizamos la gráfica comparativa entre real y predecido\n",
    "\n",
    "sns.scatterplot(x='carat', y='price', color=\"blue\", data=df4_1) #total real\n",
    "sns.scatterplot(x='carat', y='Predicciones', color=\"red\", data=df4_1) #predicción\n",
    "sns.lineplot(x='carat', y='Predicciones', color=\"red\", data=df4_1) #modelo"
   ]
  },
  {
   "cell_type": "code",
   "execution_count": 197,
   "metadata": {},
   "outputs": [],
   "source": [
    "df4_2 = df3[['price','carat','cut','color','clarity','depth','table','x','y','z']]"
   ]
  },
  {
   "cell_type": "code",
   "execution_count": 198,
   "metadata": {},
   "outputs": [],
   "source": [
    "y_pred2= model2.predict(X=df3[['depth']])\n",
    "dif2 = y_pred2 - Dep"
   ]
  },
  {
   "cell_type": "code",
   "execution_count": 199,
   "metadata": {},
   "outputs": [
    {
     "data": {
      "text/html": [
       "<div>\n",
       "<style scoped>\n",
       "    .dataframe tbody tr th:only-of-type {\n",
       "        vertical-align: middle;\n",
       "    }\n",
       "\n",
       "    .dataframe tbody tr th {\n",
       "        vertical-align: top;\n",
       "    }\n",
       "\n",
       "    .dataframe thead th {\n",
       "        text-align: right;\n",
       "    }\n",
       "</style>\n",
       "<table border=\"1\" class=\"dataframe\">\n",
       "  <thead>\n",
       "    <tr style=\"text-align: right;\">\n",
       "      <th></th>\n",
       "      <th>Predicciones</th>\n",
       "      <th>price</th>\n",
       "      <th>Diferencias</th>\n",
       "      <th>carat</th>\n",
       "      <th>cut</th>\n",
       "      <th>color</th>\n",
       "      <th>clarity</th>\n",
       "      <th>depth</th>\n",
       "      <th>table</th>\n",
       "      <th>x</th>\n",
       "      <th>y</th>\n",
       "      <th>z</th>\n",
       "    </tr>\n",
       "  </thead>\n",
       "  <tbody>\n",
       "    <tr>\n",
       "      <th>0</th>\n",
       "      <td>3933.953396</td>\n",
       "      <td>326.0</td>\n",
       "      <td>3607.953396</td>\n",
       "      <td>0.23</td>\n",
       "      <td>Ideal</td>\n",
       "      <td>E</td>\n",
       "      <td>SI2</td>\n",
       "      <td>61.5</td>\n",
       "      <td>55.0</td>\n",
       "      <td>3.95</td>\n",
       "      <td>3.98</td>\n",
       "      <td>2.43</td>\n",
       "    </tr>\n",
       "    <tr>\n",
       "      <th>1</th>\n",
       "      <td>3995.885045</td>\n",
       "      <td>326.0</td>\n",
       "      <td>3669.885045</td>\n",
       "      <td>0.21</td>\n",
       "      <td>Premium</td>\n",
       "      <td>E</td>\n",
       "      <td>SI1</td>\n",
       "      <td>59.8</td>\n",
       "      <td>61.0</td>\n",
       "      <td>3.89</td>\n",
       "      <td>3.84</td>\n",
       "      <td>2.31</td>\n",
       "    </tr>\n",
       "    <tr>\n",
       "      <th>2</th>\n",
       "      <td>4101.533154</td>\n",
       "      <td>327.0</td>\n",
       "      <td>3774.533154</td>\n",
       "      <td>0.23</td>\n",
       "      <td>Good</td>\n",
       "      <td>E</td>\n",
       "      <td>VS1</td>\n",
       "      <td>56.9</td>\n",
       "      <td>65.0</td>\n",
       "      <td>4.05</td>\n",
       "      <td>4.07</td>\n",
       "      <td>2.31</td>\n",
       "    </tr>\n",
       "    <tr>\n",
       "      <th>3</th>\n",
       "      <td>3901.166052</td>\n",
       "      <td>334.0</td>\n",
       "      <td>3567.166052</td>\n",
       "      <td>0.29</td>\n",
       "      <td>Premium</td>\n",
       "      <td>I</td>\n",
       "      <td>VS2</td>\n",
       "      <td>62.4</td>\n",
       "      <td>58.0</td>\n",
       "      <td>4.20</td>\n",
       "      <td>4.23</td>\n",
       "      <td>2.63</td>\n",
       "    </tr>\n",
       "    <tr>\n",
       "      <th>4</th>\n",
       "      <td>3868.378708</td>\n",
       "      <td>335.0</td>\n",
       "      <td>3533.378708</td>\n",
       "      <td>0.31</td>\n",
       "      <td>Good</td>\n",
       "      <td>J</td>\n",
       "      <td>SI2</td>\n",
       "      <td>63.3</td>\n",
       "      <td>58.0</td>\n",
       "      <td>4.34</td>\n",
       "      <td>4.35</td>\n",
       "      <td>2.75</td>\n",
       "    </tr>\n",
       "    <tr>\n",
       "      <th>...</th>\n",
       "      <td>...</td>\n",
       "      <td>...</td>\n",
       "      <td>...</td>\n",
       "      <td>...</td>\n",
       "      <td>...</td>\n",
       "      <td>...</td>\n",
       "      <td>...</td>\n",
       "      <td>...</td>\n",
       "      <td>...</td>\n",
       "      <td>...</td>\n",
       "      <td>...</td>\n",
       "      <td>...</td>\n",
       "    </tr>\n",
       "    <tr>\n",
       "      <th>53935</th>\n",
       "      <td>3959.454663</td>\n",
       "      <td>2757.0</td>\n",
       "      <td>1202.454663</td>\n",
       "      <td>0.72</td>\n",
       "      <td>Ideal</td>\n",
       "      <td>D</td>\n",
       "      <td>SI1</td>\n",
       "      <td>60.8</td>\n",
       "      <td>57.0</td>\n",
       "      <td>5.75</td>\n",
       "      <td>5.76</td>\n",
       "      <td>3.50</td>\n",
       "    </tr>\n",
       "    <tr>\n",
       "      <th>53936</th>\n",
       "      <td>3875.664784</td>\n",
       "      <td>2757.0</td>\n",
       "      <td>1118.664784</td>\n",
       "      <td>0.72</td>\n",
       "      <td>Good</td>\n",
       "      <td>D</td>\n",
       "      <td>SI1</td>\n",
       "      <td>63.1</td>\n",
       "      <td>55.0</td>\n",
       "      <td>5.69</td>\n",
       "      <td>5.75</td>\n",
       "      <td>3.61</td>\n",
       "    </tr>\n",
       "    <tr>\n",
       "      <th>53937</th>\n",
       "      <td>3886.593899</td>\n",
       "      <td>2757.0</td>\n",
       "      <td>1129.593899</td>\n",
       "      <td>0.70</td>\n",
       "      <td>Very Good</td>\n",
       "      <td>D</td>\n",
       "      <td>SI1</td>\n",
       "      <td>62.8</td>\n",
       "      <td>60.0</td>\n",
       "      <td>5.66</td>\n",
       "      <td>5.68</td>\n",
       "      <td>3.56</td>\n",
       "    </tr>\n",
       "    <tr>\n",
       "      <th>53938</th>\n",
       "      <td>3926.667319</td>\n",
       "      <td>2757.0</td>\n",
       "      <td>1169.667319</td>\n",
       "      <td>0.86</td>\n",
       "      <td>Premium</td>\n",
       "      <td>H</td>\n",
       "      <td>SI2</td>\n",
       "      <td>61.7</td>\n",
       "      <td>58.0</td>\n",
       "      <td>6.15</td>\n",
       "      <td>6.12</td>\n",
       "      <td>3.74</td>\n",
       "    </tr>\n",
       "    <tr>\n",
       "      <th>53939</th>\n",
       "      <td>3908.452128</td>\n",
       "      <td>2757.0</td>\n",
       "      <td>1151.452128</td>\n",
       "      <td>0.75</td>\n",
       "      <td>Ideal</td>\n",
       "      <td>D</td>\n",
       "      <td>SI2</td>\n",
       "      <td>62.2</td>\n",
       "      <td>55.0</td>\n",
       "      <td>5.83</td>\n",
       "      <td>5.87</td>\n",
       "      <td>3.64</td>\n",
       "    </tr>\n",
       "  </tbody>\n",
       "</table>\n",
       "<p>53885 rows × 12 columns</p>\n",
       "</div>"
      ],
      "text/plain": [
       "       Predicciones   price  Diferencias  carat        cut color clarity  \\\n",
       "0       3933.953396   326.0  3607.953396   0.23      Ideal     E     SI2   \n",
       "1       3995.885045   326.0  3669.885045   0.21    Premium     E     SI1   \n",
       "2       4101.533154   327.0  3774.533154   0.23       Good     E     VS1   \n",
       "3       3901.166052   334.0  3567.166052   0.29    Premium     I     VS2   \n",
       "4       3868.378708   335.0  3533.378708   0.31       Good     J     SI2   \n",
       "...             ...     ...          ...    ...        ...   ...     ...   \n",
       "53935   3959.454663  2757.0  1202.454663   0.72      Ideal     D     SI1   \n",
       "53936   3875.664784  2757.0  1118.664784   0.72       Good     D     SI1   \n",
       "53937   3886.593899  2757.0  1129.593899   0.70  Very Good     D     SI1   \n",
       "53938   3926.667319  2757.0  1169.667319   0.86    Premium     H     SI2   \n",
       "53939   3908.452128  2757.0  1151.452128   0.75      Ideal     D     SI2   \n",
       "\n",
       "       depth  table     x     y     z  \n",
       "0       61.5   55.0  3.95  3.98  2.43  \n",
       "1       59.8   61.0  3.89  3.84  2.31  \n",
       "2       56.9   65.0  4.05  4.07  2.31  \n",
       "3       62.4   58.0  4.20  4.23  2.63  \n",
       "4       63.3   58.0  4.34  4.35  2.75  \n",
       "...      ...    ...   ...   ...   ...  \n",
       "53935   60.8   57.0  5.75  5.76  3.50  \n",
       "53936   63.1   55.0  5.69  5.75  3.61  \n",
       "53937   62.8   60.0  5.66  5.68  3.56  \n",
       "53938   61.7   58.0  6.15  6.12  3.74  \n",
       "53939   62.2   55.0  5.83  5.87  3.64  \n",
       "\n",
       "[53885 rows x 12 columns]"
      ]
     },
     "execution_count": 199,
     "metadata": {},
     "output_type": "execute_result"
    }
   ],
   "source": [
    "#Insertamos la columna de predicciones en el DataFrame\n",
    "df4_2.insert(0, 'Predicciones', y_pred2) #En la columna 0, nombre de la columnas y la variable\n",
    "df4_2.insert(2, 'Diferencias', dif2)\n",
    "df4_2"
   ]
  },
  {
   "cell_type": "code",
   "execution_count": 207,
   "metadata": {},
   "outputs": [
    {
     "data": {
      "text/plain": [
       "<AxesSubplot:xlabel='depth', ylabel='price'>"
      ]
     },
     "execution_count": 207,
     "metadata": {},
     "output_type": "execute_result"
    },
    {
     "data": {
      "image/png": "[encoded data removed]",
      "text/plain": [
       "<Figure size 432x288 with 1 Axes>"
      ]
     },
     "metadata": {
      "needs_background": "light"
     },
     "output_type": "display_data"
    }
   ],
   "source": [
    "#Visualizamos la gráfica comparativa entre real y predecido\n",
    "\n",
    "sns.scatterplot(x='depth', y='price', color=\"blue\", data=df4_2) #total real\n",
    "sns.scatterplot(x='depth', y='Predicciones', color=\"red\", data=df4_2) #predicción\n",
    "sns.lineplot(x='depth', y='Predicciones', color=\"red\", data=df4_2) #modelo"
   ]
  },
  {
   "cell_type": "code",
   "execution_count": 214,
   "metadata": {},
   "outputs": [],
   "source": [
    "df4_3 = df3[['price','carat','cut','color','clarity','depth','table','x','y','z']]"
   ]
  },
  {
   "cell_type": "code",
   "execution_count": 212,
   "metadata": {},
   "outputs": [],
   "source": [
    "y_pred3= model3.predict(X=df3[['table']])\n",
    "dif3 = y_pred3 - Dep"
   ]
  },
  {
   "cell_type": "code",
   "execution_count": 215,
   "metadata": {},
   "outputs": [
    {
     "data": {
      "text/html": [
       "<div>\n",
       "<style scoped>\n",
       "    .dataframe tbody tr th:only-of-type {\n",
       "        vertical-align: middle;\n",
       "    }\n",
       "\n",
       "    .dataframe tbody tr th {\n",
       "        vertical-align: top;\n",
       "    }\n",
       "\n",
       "    .dataframe thead th {\n",
       "        text-align: right;\n",
       "    }\n",
       "</style>\n",
       "<table border=\"1\" class=\"dataframe\">\n",
       "  <thead>\n",
       "    <tr style=\"text-align: right;\">\n",
       "      <th></th>\n",
       "      <th>Predicciones</th>\n",
       "      <th>price</th>\n",
       "      <th>Diferencias</th>\n",
       "      <th>carat</th>\n",
       "      <th>cut</th>\n",
       "      <th>color</th>\n",
       "      <th>clarity</th>\n",
       "      <th>depth</th>\n",
       "      <th>table</th>\n",
       "      <th>x</th>\n",
       "      <th>y</th>\n",
       "      <th>z</th>\n",
       "    </tr>\n",
       "  </thead>\n",
       "  <tbody>\n",
       "    <tr>\n",
       "      <th>0</th>\n",
       "      <td>3368.032260</td>\n",
       "      <td>326.0</td>\n",
       "      <td>3042.032260</td>\n",
       "      <td>0.23</td>\n",
       "      <td>Ideal</td>\n",
       "      <td>E</td>\n",
       "      <td>SI2</td>\n",
       "      <td>61.5</td>\n",
       "      <td>55.0</td>\n",
       "      <td>3.95</td>\n",
       "      <td>3.98</td>\n",
       "      <td>2.43</td>\n",
       "    </tr>\n",
       "    <tr>\n",
       "      <th>1</th>\n",
       "      <td>4728.025296</td>\n",
       "      <td>326.0</td>\n",
       "      <td>4402.025296</td>\n",
       "      <td>0.21</td>\n",
       "      <td>Premium</td>\n",
       "      <td>E</td>\n",
       "      <td>SI1</td>\n",
       "      <td>59.8</td>\n",
       "      <td>61.0</td>\n",
       "      <td>3.89</td>\n",
       "      <td>3.84</td>\n",
       "      <td>2.31</td>\n",
       "    </tr>\n",
       "    <tr>\n",
       "      <th>2</th>\n",
       "      <td>5634.687319</td>\n",
       "      <td>327.0</td>\n",
       "      <td>5307.687319</td>\n",
       "      <td>0.23</td>\n",
       "      <td>Good</td>\n",
       "      <td>E</td>\n",
       "      <td>VS1</td>\n",
       "      <td>56.9</td>\n",
       "      <td>65.0</td>\n",
       "      <td>4.05</td>\n",
       "      <td>4.07</td>\n",
       "      <td>2.31</td>\n",
       "    </tr>\n",
       "    <tr>\n",
       "      <th>3</th>\n",
       "      <td>4048.028778</td>\n",
       "      <td>334.0</td>\n",
       "      <td>3714.028778</td>\n",
       "      <td>0.29</td>\n",
       "      <td>Premium</td>\n",
       "      <td>I</td>\n",
       "      <td>VS2</td>\n",
       "      <td>62.4</td>\n",
       "      <td>58.0</td>\n",
       "      <td>4.20</td>\n",
       "      <td>4.23</td>\n",
       "      <td>2.63</td>\n",
       "    </tr>\n",
       "    <tr>\n",
       "      <th>4</th>\n",
       "      <td>4048.028778</td>\n",
       "      <td>335.0</td>\n",
       "      <td>3713.028778</td>\n",
       "      <td>0.31</td>\n",
       "      <td>Good</td>\n",
       "      <td>J</td>\n",
       "      <td>SI2</td>\n",
       "      <td>63.3</td>\n",
       "      <td>58.0</td>\n",
       "      <td>4.34</td>\n",
       "      <td>4.35</td>\n",
       "      <td>2.75</td>\n",
       "    </tr>\n",
       "    <tr>\n",
       "      <th>...</th>\n",
       "      <td>...</td>\n",
       "      <td>...</td>\n",
       "      <td>...</td>\n",
       "      <td>...</td>\n",
       "      <td>...</td>\n",
       "      <td>...</td>\n",
       "      <td>...</td>\n",
       "      <td>...</td>\n",
       "      <td>...</td>\n",
       "      <td>...</td>\n",
       "      <td>...</td>\n",
       "      <td>...</td>\n",
       "    </tr>\n",
       "    <tr>\n",
       "      <th>53935</th>\n",
       "      <td>3821.363272</td>\n",
       "      <td>2757.0</td>\n",
       "      <td>1064.363272</td>\n",
       "      <td>0.72</td>\n",
       "      <td>Ideal</td>\n",
       "      <td>D</td>\n",
       "      <td>SI1</td>\n",
       "      <td>60.8</td>\n",
       "      <td>57.0</td>\n",
       "      <td>5.75</td>\n",
       "      <td>5.76</td>\n",
       "      <td>3.50</td>\n",
       "    </tr>\n",
       "    <tr>\n",
       "      <th>53936</th>\n",
       "      <td>3368.032260</td>\n",
       "      <td>2757.0</td>\n",
       "      <td>611.032260</td>\n",
       "      <td>0.72</td>\n",
       "      <td>Good</td>\n",
       "      <td>D</td>\n",
       "      <td>SI1</td>\n",
       "      <td>63.1</td>\n",
       "      <td>55.0</td>\n",
       "      <td>5.69</td>\n",
       "      <td>5.75</td>\n",
       "      <td>3.61</td>\n",
       "    </tr>\n",
       "    <tr>\n",
       "      <th>53937</th>\n",
       "      <td>4501.359790</td>\n",
       "      <td>2757.0</td>\n",
       "      <td>1744.359790</td>\n",
       "      <td>0.70</td>\n",
       "      <td>Very Good</td>\n",
       "      <td>D</td>\n",
       "      <td>SI1</td>\n",
       "      <td>62.8</td>\n",
       "      <td>60.0</td>\n",
       "      <td>5.66</td>\n",
       "      <td>5.68</td>\n",
       "      <td>3.56</td>\n",
       "    </tr>\n",
       "    <tr>\n",
       "      <th>53938</th>\n",
       "      <td>4048.028778</td>\n",
       "      <td>2757.0</td>\n",
       "      <td>1291.028778</td>\n",
       "      <td>0.86</td>\n",
       "      <td>Premium</td>\n",
       "      <td>H</td>\n",
       "      <td>SI2</td>\n",
       "      <td>61.7</td>\n",
       "      <td>58.0</td>\n",
       "      <td>6.15</td>\n",
       "      <td>6.12</td>\n",
       "      <td>3.74</td>\n",
       "    </tr>\n",
       "    <tr>\n",
       "      <th>53939</th>\n",
       "      <td>3368.032260</td>\n",
       "      <td>2757.0</td>\n",
       "      <td>611.032260</td>\n",
       "      <td>0.75</td>\n",
       "      <td>Ideal</td>\n",
       "      <td>D</td>\n",
       "      <td>SI2</td>\n",
       "      <td>62.2</td>\n",
       "      <td>55.0</td>\n",
       "      <td>5.83</td>\n",
       "      <td>5.87</td>\n",
       "      <td>3.64</td>\n",
       "    </tr>\n",
       "  </tbody>\n",
       "</table>\n",
       "<p>53885 rows × 12 columns</p>\n",
       "</div>"
      ],
      "text/plain": [
       "       Predicciones   price  Diferencias  carat        cut color clarity  \\\n",
       "0       3368.032260   326.0  3042.032260   0.23      Ideal     E     SI2   \n",
       "1       4728.025296   326.0  4402.025296   0.21    Premium     E     SI1   \n",
       "2       5634.687319   327.0  5307.687319   0.23       Good     E     VS1   \n",
       "3       4048.028778   334.0  3714.028778   0.29    Premium     I     VS2   \n",
       "4       4048.028778   335.0  3713.028778   0.31       Good     J     SI2   \n",
       "...             ...     ...          ...    ...        ...   ...     ...   \n",
       "53935   3821.363272  2757.0  1064.363272   0.72      Ideal     D     SI1   \n",
       "53936   3368.032260  2757.0   611.032260   0.72       Good     D     SI1   \n",
       "53937   4501.359790  2757.0  1744.359790   0.70  Very Good     D     SI1   \n",
       "53938   4048.028778  2757.0  1291.028778   0.86    Premium     H     SI2   \n",
       "53939   3368.032260  2757.0   611.032260   0.75      Ideal     D     SI2   \n",
       "\n",
       "       depth  table     x     y     z  \n",
       "0       61.5   55.0  3.95  3.98  2.43  \n",
       "1       59.8   61.0  3.89  3.84  2.31  \n",
       "2       56.9   65.0  4.05  4.07  2.31  \n",
       "3       62.4   58.0  4.20  4.23  2.63  \n",
       "4       63.3   58.0  4.34  4.35  2.75  \n",
       "...      ...    ...   ...   ...   ...  \n",
       "53935   60.8   57.0  5.75  5.76  3.50  \n",
       "53936   63.1   55.0  5.69  5.75  3.61  \n",
       "53937   62.8   60.0  5.66  5.68  3.56  \n",
       "53938   61.7   58.0  6.15  6.12  3.74  \n",
       "53939   62.2   55.0  5.83  5.87  3.64  \n",
       "\n",
       "[53885 rows x 12 columns]"
      ]
     },
     "execution_count": 215,
     "metadata": {},
     "output_type": "execute_result"
    }
   ],
   "source": [
    "#Insertamos la columna de predicciones en el DataFrame\n",
    "df4_3.insert(0, 'Predicciones', y_pred3) #En la columna 0, nombre de la columnas y la variable\n",
    "df4_3.insert(2, 'Diferencias', dif3)\n",
    "df4_3"
   ]
  },
  {
   "cell_type": "code",
   "execution_count": 216,
   "metadata": {},
   "outputs": [
    {
     "data": {
      "text/plain": [
       "<AxesSubplot:xlabel='table', ylabel='price'>"
      ]
     },
     "execution_count": 216,
     "metadata": {},
     "output_type": "execute_result"
    },
    {
     "data": {
      "image/png": "[encoded data removed]",
      "text/plain": [
       "<Figure size 432x288 with 1 Axes>"
      ]
     },
     "metadata": {
      "needs_background": "light"
     },
     "output_type": "display_data"
    }
   ],
   "source": [
    "#Visualizamos la gráfica comparativa entre real y predecido\n",
    "\n",
    "sns.scatterplot(x='table', y='price', color=\"blue\", data=df4_3) #total real\n",
    "sns.scatterplot(x='table', y='Predicciones', color=\"red\", data=df4_3) #predicción\n",
    "sns.lineplot(x='table', y='Predicciones', color=\"red\", data=df4_3) #modelo"
   ]
  },
  {
   "cell_type": "code",
   "execution_count": null,
   "metadata": {},
   "outputs": [],
   "source": [
    "y_pred4= model4.predict(X=df3[['carat','depth']])"
   ]
  },
  {
   "cell_type": "code",
   "execution_count": null,
   "metadata": {},
   "outputs": [],
   "source": [
    "y_pred5= model5.predict(X=df3[['carat','table']])"
   ]
  },
  {
   "cell_type": "code",
   "execution_count": null,
   "metadata": {},
   "outputs": [],
   "source": [
    "y_pred6= model6.predict(X=df3[['depth','table']])"
   ]
  },
  {
   "cell_type": "code",
   "execution_count": null,
   "metadata": {},
   "outputs": [],
   "source": [
    "y_pred7= model7.predict(X=df3[['x','y','z']])"
   ]
  },
  {
   "cell_type": "code",
   "execution_count": null,
   "metadata": {},
   "outputs": [],
   "source": [
    "y_pred8= model8.predict(X=df3[['x','y','z','carat','depth']])"
   ]
  },
  {
   "cell_type": "code",
   "execution_count": null,
   "metadata": {},
   "outputs": [],
   "source": [
    "y_pred9= model9.predict(X=df3[['x','y','z','carat','depth','table']])"
   ]
  }
 ],
 "metadata": {
  "kernelspec": {
   "display_name": "Python 3.10.7 64-bit (microsoft store)",
   "language": "python",
   "name": "python3"
  },
  "language_info": {
   "codemirror_mode": {
    "name": "ipython",
    "version": 3
   },
   "file_extension": ".py",
   "mimetype": "text/x-python",
   "name": "python",
   "nbconvert_exporter": "python",
   "pygments_lexer": "ipython3",
   "version": "3.10.7"
  },
  "orig_nbformat": 4,
  "vscode": {
   "interpreter": {
    "hash": "8bdb6cfb01423875b53bbdacac8cafabfbfae2881293bc8f69e02add7339e574"
   }
  }
 },
 "nbformat": 4,
 "nbformat_minor": 2
}
